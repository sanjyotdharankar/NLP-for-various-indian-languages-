{
    "cells": [
        {
            "cell_type": "code",
            "execution_count": 1,
            "source": [
                "import numpy as np\r\n",
                "import pandas as pd "
            ],
            "outputs": [],
            "metadata": {}
        },
        {
            "cell_type": "code",
            "execution_count": 6,
            "source": [
                "import os\r\n",
                "for dirname, _, filenames in os.walk('D:\\\\Nlp'):\r\n",
                "    for filename in filenames:\r\n",
                "        print(os.path.join(dirname, filename))"
            ],
            "outputs": [
                {
                    "output_type": "stream",
                    "name": "stdout",
                    "text": [
                        "D:\\Nlp\\Hindi_English_Truncated_Corpus.csv\n",
                        "D:\\Nlp\\main.py\n",
                        "D:\\Nlp\\Untitled.ipynb\n",
                        "D:\\Nlp\\.idea\\.gitignore\n",
                        "D:\\Nlp\\.idea\\misc.xml\n",
                        "D:\\Nlp\\.idea\\modules.xml\n",
                        "D:\\Nlp\\.idea\\Nlp.iml\n",
                        "D:\\Nlp\\.idea\\workspace.xml\n",
                        "D:\\Nlp\\.idea\\inspectionProfiles\\profiles_settings.xml\n",
                        "D:\\Nlp\\.idea\\inspectionProfiles\\Project_Default.xml\n",
                        "D:\\Nlp\\.ipynb_checkpoints\\Untitled-checkpoint.ipynb\n"
                    ]
                }
            ],
            "metadata": {}
        },
        {
            "cell_type": "code",
            "execution_count": 7,
            "source": [
                "!pip install pandas"
            ],
            "outputs": [
                {
                    "output_type": "stream",
                    "name": "stdout",
                    "text": [
                        "Requirement already satisfied: pandas in c:\\users\\sanjy\\appdata\\local\\programs\\python\\python39\\lib\\site-packages (1.3.3)\n",
                        "Requirement already satisfied: pytz>=2017.3 in c:\\users\\sanjy\\appdata\\local\\programs\\python\\python39\\lib\\site-packages (from pandas) (2021.1)\n",
                        "Requirement already satisfied: numpy>=1.17.3 in c:\\users\\sanjy\\appdata\\local\\programs\\python\\python39\\lib\\site-packages (from pandas) (1.20.1)\n",
                        "Requirement already satisfied: python-dateutil>=2.7.3 in c:\\users\\sanjy\\appdata\\roaming\\python\\python39\\site-packages (from pandas) (2.8.1)\n",
                        "Requirement already satisfied: six>=1.5 in c:\\users\\sanjy\\appdata\\roaming\\python\\python39\\site-packages (from python-dateutil>=2.7.3->pandas) (1.15.0)\n"
                    ]
                }
            ],
            "metadata": {}
        },
        {
            "cell_type": "code",
            "execution_count": 5,
            "source": [
                "os.getcwd()\r\n"
            ],
            "outputs": [
                {
                    "output_type": "execute_result",
                    "data": {
                        "text/plain": [
                            "'C:\\\\Users\\\\sanjy\\\\AppData\\\\Local\\\\Programs\\\\Microsoft VS Code'"
                        ]
                    },
                    "metadata": {},
                    "execution_count": 5
                }
            ],
            "metadata": {}
        },
        {
            "cell_type": "code",
            "execution_count": 4,
            "source": [
                "!pip install torch==1.3.1+cpu -f https://download.pytorch.org/whl/torch_stable.html"
            ],
            "outputs": [
                {
                    "output_type": "stream",
                    "name": "stdout",
                    "text": [
                        "Looking in links: https://download.pytorch.org/whl/torch_stable.html\n"
                    ]
                },
                {
                    "output_type": "stream",
                    "name": "stderr",
                    "text": [
                        "ERROR: Could not find a version that satisfies the requirement torch==1.3.1+cpu (from versions: 0.1.2, 0.1.2.post1, 0.1.2.post2, 1.7.1, 1.7.1+cpu, 1.7.1+cu101, 1.7.1+cu110, 1.8.0, 1.8.0+cpu, 1.8.0+cu101, 1.8.0+cu111, 1.8.1, 1.8.1+cpu, 1.8.1+cu101, 1.8.1+cu102, 1.8.1+cu111, 1.9.0, 1.9.0+cpu, 1.9.0+cu102, 1.9.0+cu111, 1.9.1, 1.9.1+cpu, 1.9.1+cu102, 1.9.1+cu111)\n",
                        "ERROR: No matching distribution found for torch==1.3.1+cpu\n"
                    ]
                }
            ],
            "metadata": {}
        },
        {
            "cell_type": "code",
            "execution_count": 2,
            "source": [
                "!pip install inltk"
            ],
            "outputs": [
                {
                    "output_type": "stream",
                    "name": "stdout",
                    "text": [
                        "^C\n"
                    ]
                }
            ],
            "metadata": {}
        },
        {
            "cell_type": "code",
            "execution_count": 8,
            "source": [
                "from inltk.inltk import setup"
            ],
            "outputs": [
                {
                    "output_type": "error",
                    "ename": "ModuleNotFoundError",
                    "evalue": "No module named 'inltk'",
                    "traceback": [
                        "\u001b[1;31m---------------------------------------------------------------------------\u001b[0m",
                        "\u001b[1;31mModuleNotFoundError\u001b[0m                       Traceback (most recent call last)",
                        "\u001b[1;32m<ipython-input-8-343f8b23ad46>\u001b[0m in \u001b[0;36m<module>\u001b[1;34m\u001b[0m\n\u001b[1;32m----> 1\u001b[1;33m \u001b[1;32mfrom\u001b[0m \u001b[0minltk\u001b[0m\u001b[1;33m.\u001b[0m\u001b[0minltk\u001b[0m \u001b[1;32mimport\u001b[0m \u001b[0msetup\u001b[0m\u001b[1;33m\u001b[0m\u001b[1;33m\u001b[0m\u001b[0m\n\u001b[0m",
                        "\u001b[1;31mModuleNotFoundError\u001b[0m: No module named 'inltk'"
                    ]
                }
            ],
            "metadata": {}
        }
    ],
    "metadata": {
        "orig_nbformat": 4,
        "language_info": {
            "name": "python",
            "version": "3.9.1",
            "mimetype": "text/x-python",
            "codemirror_mode": {
                "name": "ipython",
                "version": 3
            },
            "pygments_lexer": "ipython3",
            "nbconvert_exporter": "python",
            "file_extension": ".py"
        },
        "kernelspec": {
            "name": "python3",
            "display_name": "Python 3.9.1 64-bit"
        },
        "interpreter": {
            "hash": "95f069b719cd8fbebbf8c3e10a989c2218db52649b1c2d97c04526c17214a651"
        }
    },
    "nbformat": 4,
    "nbformat_minor": 2
}