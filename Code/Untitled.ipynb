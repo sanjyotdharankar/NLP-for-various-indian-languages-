{
 "cells": [
  {
   "cell_type": "code",
   "execution_count": 1,
   "id": "terminal-maker",
   "metadata": {},
   "outputs": [],
   "source": [
    "import numpy as np \n",
    "import pandas as pd"
   ]
  },
  {
   "cell_type": "code",
   "execution_count": 2,
   "id": "african-sampling",
   "metadata": {},
   "outputs": [
    {
     "name": "stdout",
     "output_type": "stream",
     "text": [
      "Requirement already satisfied: pandas in c:\\users\\sanjy\\miniconda3\\lib\\site-packages (1.3.3)\n",
      "Requirement already satisfied: numpy>=1.17.3 in c:\\users\\sanjy\\miniconda3\\lib\\site-packages (from pandas) (1.20.1)\n",
      "Requirement already satisfied: python-dateutil>=2.7.3 in c:\\users\\sanjy\\miniconda3\\lib\\site-packages (from pandas) (2.8.1)\n",
      "Requirement already satisfied: pytz>=2017.3 in c:\\users\\sanjy\\miniconda3\\lib\\site-packages (from pandas) (2021.1)\n",
      "Requirement already satisfied: six>=1.5 in c:\\users\\sanjy\\miniconda3\\lib\\site-packages (from python-dateutil>=2.7.3->pandas) (1.15.0)\n"
     ]
    }
   ],
   "source": [
    "!pip install pandas"
   ]
  },
  {
   "cell_type": "code",
   "execution_count": 6,
   "id": "subject-bacteria",
   "metadata": {},
   "outputs": [
    {
     "data": {
      "text/plain": [
       "'D:\\\\web devlop'"
      ]
     },
     "execution_count": 6,
     "metadata": {},
     "output_type": "execute_result"
    }
   ],
   "source": [
    "import os\n",
    "os.getcwd()"
   ]
  },
  {
   "cell_type": "code",
   "execution_count": 7,
   "id": "cross-indication",
   "metadata": {},
   "outputs": [
    {
     "name": "stdout",
     "output_type": "stream",
     "text": [
      "D:\\web devlop\\Hindi_English_Truncated_Corpus.csv\n",
      "D:\\web devlop\\nlpv.ipynb\n",
      "D:\\web devlop\\pp.ipynb\n",
      "D:\\web devlop\\Untitled.ipynb\n",
      "D:\\web devlop\\.idea\\.gitignore\n",
      "D:\\web devlop\\.idea\\misc.xml\n",
      "D:\\web devlop\\.idea\\modules.xml\n",
      "D:\\web devlop\\.idea\\web devlop.iml\n",
      "D:\\web devlop\\.idea\\workspace.xml\n",
      "D:\\web devlop\\.idea\\inspectionProfiles\\profiles_settings.xml\n",
      "D:\\web devlop\\.idea\\inspectionProfiles\\Project_Default.xml\n",
      "D:\\web devlop\\.ipynb_checkpoints\\Untitled-checkpoint.ipynb\n"
     ]
    }
   ],
   "source": [
    "for dirname, _, filenames in os.walk('D:\\\\web devlop'):\n",
    "    for filename in filenames:\n",
    "        print(os.path.join(dirname, filename))"
   ]
  },
  {
   "cell_type": "code",
   "execution_count": 9,
   "id": "third-visitor",
   "metadata": {},
   "outputs": [],
   "source": [
    "import warnings\n",
    "warnings.filterwarnings('ignore')"
   ]
  },
  {
   "cell_type": "code",
   "execution_count": 10,
   "id": "collected-impression",
   "metadata": {},
   "outputs": [],
   "source": [
    "df = pd.read_csv(\"D:/web devlop/Hindi_English_Truncated_Corpus.csv\")\n"
   ]
  },
  {
   "cell_type": "code",
   "execution_count": 11,
   "id": "experienced-handy",
   "metadata": {},
   "outputs": [
    {
     "data": {
      "text/html": [
       "<div>\n",
       "<style scoped>\n",
       "    .dataframe tbody tr th:only-of-type {\n",
       "        vertical-align: middle;\n",
       "    }\n",
       "\n",
       "    .dataframe tbody tr th {\n",
       "        vertical-align: top;\n",
       "    }\n",
       "\n",
       "    .dataframe thead th {\n",
       "        text-align: right;\n",
       "    }\n",
       "</style>\n",
       "<table border=\"1\" class=\"dataframe\">\n",
       "  <thead>\n",
       "    <tr style=\"text-align: right;\">\n",
       "      <th></th>\n",
       "      <th>source</th>\n",
       "      <th>english_sentence</th>\n",
       "      <th>hindi_sentence</th>\n",
       "    </tr>\n",
       "  </thead>\n",
       "  <tbody>\n",
       "    <tr>\n",
       "      <th>0</th>\n",
       "      <td>ted</td>\n",
       "      <td>politicians do not have permission to do what ...</td>\n",
       "      <td>राजनीतिज्ञों के पास जो कार्य करना चाहिए, वह कर...</td>\n",
       "    </tr>\n",
       "    <tr>\n",
       "      <th>1</th>\n",
       "      <td>ted</td>\n",
       "      <td>I'd like to tell you about one such child,</td>\n",
       "      <td>मई आपको ऐसे ही एक बच्चे के बारे में बताना चाहू...</td>\n",
       "    </tr>\n",
       "    <tr>\n",
       "      <th>2</th>\n",
       "      <td>indic2012</td>\n",
       "      <td>This percentage is even greater than the perce...</td>\n",
       "      <td>यह प्रतिशत भारत में हिन्दुओं प्रतिशत से अधिक है।</td>\n",
       "    </tr>\n",
       "    <tr>\n",
       "      <th>3</th>\n",
       "      <td>ted</td>\n",
       "      <td>what we really mean is that they're bad at not...</td>\n",
       "      <td>हम ये नहीं कहना चाहते कि वो ध्यान नहीं दे पाते</td>\n",
       "    </tr>\n",
       "    <tr>\n",
       "      <th>4</th>\n",
       "      <td>indic2012</td>\n",
       "      <td>.The ending portion of these Vedas is called U...</td>\n",
       "      <td>इन्हीं वेदों का अंतिम भाग उपनिषद कहलाता है।</td>\n",
       "    </tr>\n",
       "  </tbody>\n",
       "</table>\n",
       "</div>"
      ],
      "text/plain": [
       "      source                                   english_sentence  \\\n",
       "0        ted  politicians do not have permission to do what ...   \n",
       "1        ted         I'd like to tell you about one such child,   \n",
       "2  indic2012  This percentage is even greater than the perce...   \n",
       "3        ted  what we really mean is that they're bad at not...   \n",
       "4  indic2012  .The ending portion of these Vedas is called U...   \n",
       "\n",
       "                                      hindi_sentence  \n",
       "0  राजनीतिज्ञों के पास जो कार्य करना चाहिए, वह कर...  \n",
       "1  मई आपको ऐसे ही एक बच्चे के बारे में बताना चाहू...  \n",
       "2   यह प्रतिशत भारत में हिन्दुओं प्रतिशत से अधिक है।  \n",
       "3     हम ये नहीं कहना चाहते कि वो ध्यान नहीं दे पाते  \n",
       "4        इन्हीं वेदों का अंतिम भाग उपनिषद कहलाता है।  "
      ]
     },
     "execution_count": 11,
     "metadata": {},
     "output_type": "execute_result"
    }
   ],
   "source": [
    "df.head()"
   ]
  },
  {
   "cell_type": "code",
   "execution_count": 15,
   "id": "subject-publication",
   "metadata": {},
   "outputs": [
    {
     "name": "stdout",
     "output_type": "stream",
     "text": [
      "Collecting torch\n",
      "  Using cached torch-1.9.1-cp38-cp38-win_amd64.whl (222.1 MB)\n",
      "Collecting typing-extensions\n",
      "  Using cached typing_extensions-3.10.0.2-py3-none-any.whl (26 kB)\n",
      "Installing collected packages: typing-extensions, torch\n",
      "Successfully installed torch-1.9.1 typing-extensions-3.10.0.2\n"
     ]
    }
   ],
   "source": [
    "!pip install torch"
   ]
  },
  {
   "cell_type": "code",
   "execution_count": 14,
   "id": "completed-quantity",
   "metadata": {},
   "outputs": [
    {
     "name": "stdout",
     "output_type": "stream",
     "text": [
      "Collecting inltk"
     ]
    },
    {
     "name": "stderr",
     "output_type": "stream",
     "text": [
      "  ERROR: Command errored out with exit status 1:\n",
      "   command: 'C:\\Users\\sanjy\\miniconda3\\python.exe' 'C:\\Users\\sanjy\\miniconda3\\lib\\site-packages\\pip\\_vendor\\pep517\\_in_process.py' build_wheel 'C:\\Users\\sanjy\\AppData\\Local\\Temp\\tmpzss1t6p3'\n",
      "       cwd: C:\\Users\\sanjy\\AppData\\Local\\Temp\\pip-install-cbm7q79x\\bottleneck\n",
      "  Complete output (51 lines):\n",
      "  running bdist_wheel\n",
      "  running build\n",
      "  running build_py\n",
      "  creating build\n",
      "  creating build\\lib.win-amd64-3.8\n",
      "  creating build\\lib.win-amd64-3.8\\bottleneck\n",
      "  copying bottleneck\\_pytesttester.py -> build\\lib.win-amd64-3.8\\bottleneck\n",
      "  copying bottleneck\\_version.py -> build\\lib.win-amd64-3.8\\bottleneck\n",
      "  copying bottleneck\\__init__.py -> build\\lib.win-amd64-3.8\\bottleneck\n",
      "  creating build\\lib.win-amd64-3.8\\bottleneck\\benchmark\n",
      "  copying bottleneck\\benchmark\\autotimeit.py -> build\\lib.win-amd64-3.8\\bottleneck\\benchmark\n",
      "  copying bottleneck\\benchmark\\bench.py -> build\\lib.win-amd64-3.8\\bottleneck\\benchmark\n",
      "  copying bottleneck\\benchmark\\bench_detailed.py -> build\\lib.win-amd64-3.8\\bottleneck\\benchmark\n",
      "  copying bottleneck\\benchmark\\__init__.py -> build\\lib.win-amd64-3.8\\bottleneck\\benchmark\n",
      "  creating build\\lib.win-amd64-3.8\\bottleneck\\slow\n",
      "  copying bottleneck\\slow\\move.py -> build\\lib.win-amd64-3.8\\bottleneck\\slow\n",
      "  copying bottleneck\\slow\\nonreduce.py -> build\\lib.win-amd64-3.8\\bottleneck\\slow\n",
      "  copying bottleneck\\slow\\nonreduce_axis.py -> build\\lib.win-amd64-3.8\\bottleneck\\slow\n",
      "  copying bottleneck\\slow\\reduce.py -> build\\lib.win-amd64-3.8\\bottleneck\\slow\n",
      "  copying bottleneck\\slow\\__init__.py -> build\\lib.win-amd64-3.8\\bottleneck\\slow\n",
      "  creating build\\lib.win-amd64-3.8\\bottleneck\\src\n",
      "  copying bottleneck\\src\\bn_config.py -> build\\lib.win-amd64-3.8\\bottleneck\\src\n",
      "  copying bottleneck\\src\\bn_template.py -> build\\lib.win-amd64-3.8\\bottleneck\\src\n",
      "  copying bottleneck\\src\\__init__.py -> build\\lib.win-amd64-3.8\\bottleneck\\src\n",
      "  creating build\\lib.win-amd64-3.8\\bottleneck\\tests\n",
      "  copying bottleneck\\tests\\input_modification_test.py -> build\\lib.win-amd64-3.8\\bottleneck\\tests\n",
      "  copying bottleneck\\tests\\list_input_test.py -> build\\lib.win-amd64-3.8\\bottleneck\\tests\n",
      "  copying bottleneck\\tests\\memory_test.py -> build\\lib.win-amd64-3.8\\bottleneck\\tests\n",
      "  copying bottleneck\\tests\\move_test.py -> build\\lib.win-amd64-3.8\\bottleneck\\tests\n",
      "  copying bottleneck\\tests\\nonreduce_axis_test.py -> build\\lib.win-amd64-3.8\\bottleneck\\tests\n",
      "  copying bottleneck\\tests\\nonreduce_test.py -> build\\lib.win-amd64-3.8\\bottleneck\\tests\n",
      "  copying bottleneck\\tests\\reduce_test.py -> build\\lib.win-amd64-3.8\\bottleneck\\tests\n",
      "  copying bottleneck\\tests\\scalar_input_test.py -> build\\lib.win-amd64-3.8\\bottleneck\\tests\n",
      "  copying bottleneck\\tests\\util.py -> build\\lib.win-amd64-3.8\\bottleneck\\tests\n",
      "  copying bottleneck\\tests\\__init__.py -> build\\lib.win-amd64-3.8\\bottleneck\\tests\n",
      "  UPDATING build\\lib.win-amd64-3.8\\bottleneck/_version.py\n",
      "  set build\\lib.win-amd64-3.8\\bottleneck/_version.py to '1.3.2'\n",
      "  running build_ext\n",
      "  running config\n",
      "  compiling '_configtest.c':\n",
      "  \n",
      "  \n",
      "  \n",
      "  int __attribute__((optimize(\"O3\"))) have_attribute_optimize_opt_3(void*);\n",
      "  \n",
      "  int main(void)\n",
      "  {\n",
      "      return 0;\n",
      "  }\n",
      "  \n",
      "  error: Microsoft Visual C++ 14.0 or greater is required. Get it with \"Microsoft C++ Build Tools\": https://visualstudio.microsoft.com/visual-cpp-build-tools/\n",
      "  ----------------------------------------\n",
      "  ERROR: Failed building wheel for bottleneck\n",
      "ERROR: Could not build wheels for bottleneck which use PEP 517 and cannot be installed directly\n"
     ]
    },
    {
     "name": "stdout",
     "output_type": "stream",
     "text": [
      "\n",
      "  Downloading inltk-0.9-py3-none-any.whl (13 kB)\n",
      "Collecting fastai==1.0.57\n",
      "  Downloading fastai-1.0.57-py3-none-any.whl (233 kB)\n",
      "Collecting nvidia-ml-py3\n",
      "  Downloading nvidia-ml-py3-7.352.0.tar.gz (19 kB)\n",
      "Requirement already satisfied: scipy in c:\\users\\sanjy\\miniconda3\\lib\\site-packages (from inltk) (1.6.0)\n",
      "Collecting beautifulsoup4\n",
      "  Downloading beautifulsoup4-4.10.0-py3-none-any.whl (97 kB)\n",
      "Requirement already satisfied: pandas in c:\\users\\sanjy\\miniconda3\\lib\\site-packages (from inltk) (1.3.3)\n",
      "Collecting numexpr\n",
      "  Downloading numexpr-2.7.3-cp38-cp38-win_amd64.whl (93 kB)\n",
      "Requirement already satisfied: requests in c:\\users\\sanjy\\miniconda3\\lib\\site-packages (from inltk) (2.24.0)\n",
      "Requirement already satisfied: matplotlib in c:\\users\\sanjy\\miniconda3\\lib\\site-packages (from inltk) (3.3.4)\n",
      "Collecting pyyaml\n",
      "  Downloading PyYAML-5.4.1-cp38-cp38-win_amd64.whl (213 kB)\n",
      "Collecting typing\n",
      "  Downloading typing-3.7.4.3.tar.gz (78 kB)\n",
      "Collecting bottleneck\n",
      "  Downloading Bottleneck-1.3.2.tar.gz (88 kB)\n",
      "  Installing build dependencies: started\n",
      "  Installing build dependencies: finished with status 'done'\n",
      "  Getting requirements to build wheel: started\n",
      "  Getting requirements to build wheel: finished with status 'done'\n",
      "    Preparing wheel metadata: started\n",
      "    Preparing wheel metadata: finished with status 'done'\n",
      "Collecting aiohttp>=3.5.4\n",
      "  Downloading aiohttp-3.7.4.post0-cp38-cp38-win_amd64.whl (635 kB)\n",
      "Requirement already satisfied: packaging in c:\\users\\sanjy\\miniconda3\\lib\\site-packages (from inltk) (20.9)\n",
      "Collecting fastprogress>=0.1.19\n",
      "  Downloading fastprogress-1.0.0-py3-none-any.whl (12 kB)\n",
      "Collecting spacy>=2.0.18\n",
      "  Downloading spacy-3.1.3-cp38-cp38-win_amd64.whl (12.0 MB)\n",
      "Requirement already satisfied: numpy>=1.15 in c:\\users\\sanjy\\miniconda3\\lib\\site-packages (from inltk) (1.20.1)\n",
      "Requirement already satisfied: Pillow in c:\\users\\sanjy\\miniconda3\\lib\\site-packages (from inltk) (8.1.0)\n",
      "Collecting async-timeout>=3.0.1\n",
      "  Downloading async_timeout-3.0.1-py3-none-any.whl (8.2 kB)\n",
      "Collecting sentencepiece\n",
      "  Downloading sentencepiece-0.1.96-cp38-cp38-win_amd64.whl (1.1 MB)\n",
      "Collecting torchvision\n",
      "  Downloading torchvision-0.10.1-cp38-cp38-win_amd64.whl (936 kB)\n",
      "Collecting torch>=1.0.0\n",
      "  Downloading torch-1.9.1-cp38-cp38-win_amd64.whl (222.1 MB)\n",
      "Collecting soupsieve>1.2\n",
      "  Downloading soupsieve-2.2.1-py3-none-any.whl (33 kB)\n",
      "Requirement already satisfied: pytz>=2017.3 in c:\\users\\sanjy\\miniconda3\\lib\\site-packages (from pandas->inltk) (2021.1)\n",
      "Requirement already satisfied: python-dateutil>=2.7.3 in c:\\users\\sanjy\\miniconda3\\lib\\site-packages (from pandas->inltk) (2.8.1)\n",
      "Requirement already satisfied: idna<3,>=2.5 in c:\\users\\sanjy\\miniconda3\\lib\\site-packages (from requests->inltk) (2.10)\n",
      "Requirement already satisfied: urllib3!=1.25.0,!=1.25.1,<1.26,>=1.21.1 in c:\\users\\sanjy\\miniconda3\\lib\\site-packages (from requests->inltk) (1.25.11)\n",
      "Requirement already satisfied: certifi>=2017.4.17 in c:\\users\\sanjy\\miniconda3\\lib\\site-packages (from requests->inltk) (2020.12.5)\n",
      "Requirement already satisfied: chardet<4,>=3.0.2 in c:\\users\\sanjy\\miniconda3\\lib\\site-packages (from requests->inltk) (3.0.4)\n",
      "Requirement already satisfied: pyparsing!=2.0.4,!=2.1.2,!=2.1.6,>=2.0.3 in c:\\users\\sanjy\\miniconda3\\lib\\site-packages (from matplotlib->inltk) (2.4.7)\n",
      "Requirement already satisfied: kiwisolver>=1.0.1 in c:\\users\\sanjy\\miniconda3\\lib\\site-packages (from matplotlib->inltk) (1.3.1)\n",
      "Requirement already satisfied: cycler>=0.10 in c:\\users\\sanjy\\miniconda3\\lib\\site-packages (from matplotlib->inltk) (0.10.0)\n",
      "Collecting multidict<7.0,>=4.5\n",
      "  Downloading multidict-5.1.0-cp38-cp38-win_amd64.whl (48 kB)\n",
      "Collecting typing-extensions>=3.6.5\n",
      "  Downloading typing_extensions-3.10.0.2-py3-none-any.whl (26 kB)\n",
      "Collecting attrs>=17.3.0\n",
      "  Downloading attrs-21.2.0-py2.py3-none-any.whl (53 kB)\n",
      "Collecting yarl<2.0,>=1.0\n",
      "  Downloading yarl-1.6.3-cp38-cp38-win_amd64.whl (125 kB)\n",
      "Collecting jinja2\n",
      "  Downloading Jinja2-3.0.1-py3-none-any.whl (133 kB)\n",
      "Collecting blis<0.8.0,>=0.4.0\n",
      "  Downloading blis-0.7.4-cp38-cp38-win_amd64.whl (6.5 MB)\n",
      "Collecting cymem<2.1.0,>=2.0.2\n",
      "  Downloading cymem-2.0.5-cp38-cp38-win_amd64.whl (36 kB)\n",
      "Collecting thinc<8.1.0,>=8.0.9\n",
      "  Downloading thinc-8.0.10-cp38-cp38-win_amd64.whl (1.0 MB)\n",
      "Collecting srsly<3.0.0,>=2.4.1\n",
      "  Downloading srsly-2.4.1-cp38-cp38-win_amd64.whl (451 kB)\n",
      "Requirement already satisfied: tqdm<5.0.0,>=4.38.0 in c:\\users\\sanjy\\miniconda3\\lib\\site-packages (from spacy>=2.0.18->inltk) (4.51.0)\n",
      "Collecting pydantic!=1.8,!=1.8.1,<1.9.0,>=1.7.4\n",
      "  Downloading pydantic-1.8.2-cp38-cp38-win_amd64.whl (2.0 MB)\n",
      "Collecting catalogue<2.1.0,>=2.0.6\n",
      "  Downloading catalogue-2.0.6-py3-none-any.whl (17 kB)\n",
      "Collecting pathy>=0.3.5\n",
      "  Downloading pathy-0.6.0-py3-none-any.whl (42 kB)\n",
      "Collecting wasabi<1.1.0,>=0.8.1\n",
      "  Downloading wasabi-0.8.2-py3-none-any.whl (23 kB)\n",
      "Requirement already satisfied: setuptools in c:\\users\\sanjy\\miniconda3\\lib\\site-packages (from spacy>=2.0.18->inltk) (50.3.1.post20201107)\n",
      "Collecting preshed<3.1.0,>=3.0.2\n",
      "  Downloading preshed-3.0.5-cp38-cp38-win_amd64.whl (112 kB)\n",
      "Collecting murmurhash<1.1.0,>=0.28.0\n",
      "  Downloading murmurhash-1.0.5-cp38-cp38-win_amd64.whl (21 kB)\n",
      "Collecting typer<0.5.0,>=0.3.0\n",
      "  Downloading typer-0.4.0-py3-none-any.whl (27 kB)\n",
      "Collecting spacy-legacy<3.1.0,>=3.0.8\n",
      "  Downloading spacy_legacy-3.0.8-py2.py3-none-any.whl (14 kB)\n",
      "Requirement already satisfied: six>=1.5 in c:\\users\\sanjy\\miniconda3\\lib\\site-packages (from python-dateutil>=2.7.3->pandas->inltk) (1.15.0)\n",
      "Collecting MarkupSafe>=2.0\n",
      "  Downloading MarkupSafe-2.0.1-cp38-cp38-win_amd64.whl (14 kB)\n",
      "Collecting smart-open<6.0.0,>=5.0.0\n",
      "  Downloading smart_open-5.2.1-py3-none-any.whl (58 kB)\n",
      "Collecting click<9.0.0,>=7.1.1\n",
      "  Downloading click-8.0.1-py3-none-any.whl (97 kB)\n",
      "Collecting colorama; platform_system == \"Windows\"\n",
      "  Using cached colorama-0.4.4-py2.py3-none-any.whl (16 kB)\n",
      "Building wheels for collected packages: nvidia-ml-py3, typing, bottleneck\n",
      "  Building wheel for nvidia-ml-py3 (setup.py): started\n",
      "  Building wheel for nvidia-ml-py3 (setup.py): finished with status 'done'\n",
      "  Created wheel for nvidia-ml-py3: filename=nvidia_ml_py3-7.352.0-py3-none-any.whl size=19196 sha256=cf431dc073fdd2480a618d5645d5f801310908c1455f30d275c26a95bcb4fd70\n",
      "  Stored in directory: c:\\users\\sanjy\\appdata\\local\\pip\\cache\\wheels\\b9\\b1\\68\\cb4feab29709d4155310d29a421389665dcab9eb3b679b527b\n",
      "  Building wheel for typing (setup.py): started\n",
      "  Building wheel for typing (setup.py): finished with status 'done'\n",
      "  Created wheel for typing: filename=typing-3.7.4.3-py3-none-any.whl size=26312 sha256=227fbd91245b14e65509a79d7f4458b9d4ae13aa8b478d379c9f0e6cfdc7e47e\n",
      "  Stored in directory: c:\\users\\sanjy\\appdata\\local\\pip\\cache\\wheels\\5e\\5d\\01\\3083e091b57809dad979ea543def62d9d878950e3e74f0c930\n",
      "  Building wheel for bottleneck (PEP 517): started\n",
      "  Building wheel for bottleneck (PEP 517): finished with status 'error'\n",
      "Successfully built nvidia-ml-py3 typing\n",
      "Failed to build bottleneck\n"
     ]
    }
   ],
   "source": [
    "!pip install inltk"
   ]
  },
  {
   "cell_type": "code",
   "execution_count": null,
   "id": "understanding-collaboration",
   "metadata": {},
   "outputs": [],
   "source": [
    "from inltk.inltk import setup"
   ]
  },
  {
   "cell_type": "code",
   "execution_count": null,
   "id": "jewish-signature",
   "metadata": {},
   "outputs": [],
   "source": [
    "# Loading Pretrained Model - Langauge Setup"
   ]
  }
 ],
 "metadata": {
  "kernelspec": {
   "display_name": "Python 3",
   "language": "python",
   "name": "python3"
  },
  "language_info": {
   "codemirror_mode": {
    "name": "ipython",
    "version": 3
   },
   "file_extension": ".py",
   "mimetype": "text/x-python",
   "name": "python",
   "nbconvert_exporter": "python",
   "pygments_lexer": "ipython3",
   "version": "3.9.1"
  }
 },
 "nbformat": 4,
 "nbformat_minor": 5
}
